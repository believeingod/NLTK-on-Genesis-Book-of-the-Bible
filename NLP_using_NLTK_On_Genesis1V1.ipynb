{
 "cells": [
  {
   "cell_type": "code",
   "execution_count": 17,
   "metadata": {},
   "outputs": [],
   "source": [
    "import nltk"
   ]
  },
  {
   "cell_type": "code",
   "execution_count": 18,
   "metadata": {},
   "outputs": [],
   "source": [
    "from collections import Counter"
   ]
  },
  {
   "cell_type": "code",
   "execution_count": 19,
   "metadata": {},
   "outputs": [],
   "source": [
    "words = ['hello', 'hell', 'owl', 'hello', 'world', 'war', 'hello', 'war']"
   ]
  },
  {
   "cell_type": "code",
   "execution_count": 20,
   "metadata": {},
   "outputs": [
    {
     "data": {
      "text/plain": [
       "[('hello', 3), ('war', 2), ('hell', 1), ('owl', 1), ('world', 1)]"
      ]
     },
     "execution_count": 20,
     "metadata": {},
     "output_type": "execute_result"
    }
   ],
   "source": [
    "counter_obj = Counter(words)\n",
    "counter_obj.most_common() #counter_obj.most_common(n=10)"
   ]
  },
  {
   "cell_type": "code",
   "execution_count": 21,
   "metadata": {},
   "outputs": [],
   "source": [
    "from nltk.corpus import stopwords"
   ]
  },
  {
   "cell_type": "code",
   "execution_count": 28,
   "metadata": {},
   "outputs": [],
   "source": [
    "Genesis = \"\"\"In the beginning God created the heaven and the earth.\"\"\""
   ]
  },
  {
   "cell_type": "code",
   "execution_count": 29,
   "metadata": {},
   "outputs": [],
   "source": [
    "# Word Tokenizing is to separate each word from the content\n",
    "from nltk.tokenize import word_tokenize as wt"
   ]
  },
  {
   "cell_type": "code",
   "execution_count": 30,
   "metadata": {},
   "outputs": [],
   "source": [
    "# we have created an instance called ‘wt’ for ‘word_tokenize’. Let’s apply this tokenizing\n",
    "Genesis = wt(Genesis)"
   ]
  },
  {
   "cell_type": "code",
   "execution_count": 14,
   "metadata": {},
   "outputs": [
    {
     "name": "stdout",
     "output_type": "stream",
     "text": [
      "showing info https://raw.githubusercontent.com/nltk/nltk_data/gh-pages/index.xml\n"
     ]
    },
    {
     "data": {
      "text/plain": [
       "True"
      ]
     },
     "execution_count": 14,
     "metadata": {},
     "output_type": "execute_result"
    }
   ],
   "source": [
    "import nltk\n",
    "nltk.download()"
   ]
  },
  {
   "cell_type": "code",
   "execution_count": 31,
   "metadata": {},
   "outputs": [
    {
     "data": {
      "text/plain": [
       "'In the beginning God created the heaven and the earth .'"
      ]
     },
     "execution_count": 31,
     "metadata": {},
     "output_type": "execute_result"
    }
   ],
   "source": [
    "#  ‘join’ method to view it as a string\n",
    "' '.join(Genesis)"
   ]
  },
  {
   "cell_type": "markdown",
   "metadata": {},
   "source": [
    "As you can see, due to the word tokenizing, words, numbers, and even punctuation marks are separated as individual elements in the list. As we have returned it with the ‘join’ method with a space, it is showing a string of these elements separated by spaces.\n",
    "\n",
    "Numbers and punctuation marks are unwanted because we are going to check the frequency distribution of words and letters only. So, we need to get rid of them"
   ]
  },
  {
   "cell_type": "code",
   "execution_count": 32,
   "metadata": {},
   "outputs": [
    {
     "data": {
      "text/plain": [
       "'!\"#$%&\\'()*+,-./:;<=>?@[\\\\]^_`{|}~'"
      ]
     },
     "execution_count": 32,
     "metadata": {},
     "output_type": "execute_result"
    }
   ],
   "source": [
    "# Getting rid of Punctuation Marks\n",
    "# We need to import the ‘string’ library in Python and use the ‘punctuation’ class.\\\n",
    "\n",
    "import string\n",
    "string.punctuation\n",
    "'!\"#$%&\\'()*+,-./:;<=>?@[\\\\]^_`{|}~'"
   ]
  },
  {
   "cell_type": "code",
   "execution_count": 33,
   "metadata": {},
   "outputs": [],
   "source": [
    "Genesis_no_punct = []\n",
    "for i in Genesis:\n",
    "    for j in list(string.punctuation):\n",
    "        i = i.replace(j,'').lower()\n",
    "    Genesis_no_punct.append(i)"
   ]
  },
  {
   "cell_type": "code",
   "execution_count": 35,
   "metadata": {},
   "outputs": [
    {
     "data": {
      "text/plain": [
       "'in the beginning god created the heaven and the earth '"
      ]
     },
     "execution_count": 35,
     "metadata": {},
     "output_type": "execute_result"
    }
   ],
   "source": [
    "# Let’s see Genesis_no_punct’ will look like. For that, let’s use the ‘join’ method to view it as a string\n",
    "' '.join(Genesis_no_punct)"
   ]
  },
  {
   "cell_type": "code",
   "execution_count": 36,
   "metadata": {},
   "outputs": [],
   "source": [
    "# Getting rid of Numbers\n",
    "# So far we have eliminated punctuation marks. Now, let’s define a new list called ‘Genesis_words’. \n",
    "# This list should be free of numbers. To do so, we are going to use a for loop with some string methods.\n",
    "Genesis_words = []\n",
    "for i in Genesis_no_punct:\n",
    "    if i.isalpha():\n",
    "        Genesis_words.append(i)"
   ]
  },
  {
   "cell_type": "code",
   "execution_count": 38,
   "metadata": {},
   "outputs": [
    {
     "data": {
      "text/plain": [
       "'in the beginning god created the heaven and the earth'"
      ]
     },
     "execution_count": 38,
     "metadata": {},
     "output_type": "execute_result"
    }
   ],
   "source": [
    "# Let’s see how ‘first_gen_words’ will look like. For that, let’s use the ‘join’ method to view it as a string.\n",
    "' '.join(Genesis_words)"
   ]
  },
  {
   "cell_type": "markdown",
   "metadata": {},
   "source": [
    "Now, this consists of words only. No punctuations. No numbers."
   ]
  },
  {
   "cell_type": "code",
   "execution_count": 39,
   "metadata": {},
   "outputs": [],
   "source": [
    "# Checking the Frequency Distribution\n",
    "# To check the Frequency Distribution, we are going to use the ‘FreqDist’ class which is included in the ‘nltk’ library. \n",
    "from nltk.probability import FreqDist as fd"
   ]
  },
  {
   "cell_type": "code",
   "execution_count": 40,
   "metadata": {},
   "outputs": [
    {
     "data": {
      "text/plain": [
       "[('the', 3),\n",
       " ('in', 1),\n",
       " ('beginning', 1),\n",
       " ('god', 1),\n",
       " ('created', 1),\n",
       " ('heaven', 1),\n",
       " ('and', 1),\n",
       " ('earth', 1)]"
      ]
     },
     "execution_count": 40,
     "metadata": {},
     "output_type": "execute_result"
    }
   ],
   "source": [
    "# Most frequently used 10 words\n",
    "# We can simply check the most frequently used 10 words as follows.\n",
    "fd(Genesis_words).most_common(10)"
   ]
  },
  {
   "cell_type": "markdown",
   "metadata": {},
   "source": [
    "We have made use of the ‘fd’ object and called the ‘most_common’ method passing the parameter as 10. It returns a list of tuples. Each tuple consists of two elements; the word and the occurrence"
   ]
  },
  {
   "cell_type": "code",
   "execution_count": 41,
   "metadata": {},
   "outputs": [
    {
     "data": {
      "text/plain": [
       "{'the': 3,\n",
       " 'in': 1,\n",
       " 'beginning': 1,\n",
       " 'god': 1,\n",
       " 'created': 1,\n",
       " 'heaven': 1,\n",
       " 'and': 1,\n",
       " 'earth': 1}"
      ]
     },
     "execution_count": 41,
     "metadata": {},
     "output_type": "execute_result"
    }
   ],
   "source": [
    "# We can visualize these data as well. To do that we need to add these elements to a dictionary. \n",
    "# Then, by using the Pandas library we can visualize it in a graph. \n",
    "# So, let’s add the words and the occurrences to a dictionary named ‘word_dict’.\n",
    "word_dict = dict(fd(Genesis_words).most_common(10))\n",
    "word_dict"
   ]
  },
  {
   "cell_type": "code",
   "execution_count": 42,
   "metadata": {},
   "outputs": [
    {
     "data": {
      "text/plain": [
       "<AxesSubplot:>"
      ]
     },
     "execution_count": 42,
     "metadata": {},
     "output_type": "execute_result"
    },
    {
     "data": {
      "image/png": "[encoded data removed]",
      "text/plain": [
       "<Figure size 576x396 with 1 Axes>"
      ]
     },
     "metadata": {},
     "output_type": "display_data"
    }
   ],
   "source": [
    "# let’s make use of the Pandas library.\n",
    "import pandas as pd\n",
    "most_common_words = pd.DataFrame({\"Frequency Distribution of Words\": list(word_dict.values())}, index=list(word_dict.keys()))\n",
    "most_common_words.plot(kind=\"bar\")"
   ]
  },
  {
   "cell_type": "code",
   "execution_count": 43,
   "metadata": {},
   "outputs": [],
   "source": [
    "# Most frequently used 10 letters\n",
    "# First, let’s take all the letters from all the words.\n",
    "\n",
    "letters = []\n",
    "for i in str(Genesis_words):\n",
    "    if i.isalpha():\n",
    "        letters.append(i)"
   ]
  },
  {
   "cell_type": "code",
   "execution_count": 44,
   "metadata": {},
   "outputs": [
    {
     "data": {
      "text/plain": [
       "[('e', 9),\n",
       " ('n', 6),\n",
       " ('t', 5),\n",
       " ('h', 5),\n",
       " ('a', 4),\n",
       " ('i', 3),\n",
       " ('g', 3),\n",
       " ('d', 3),\n",
       " ('r', 2),\n",
       " ('b', 1)]"
      ]
     },
     "execution_count": 44,
     "metadata": {},
     "output_type": "execute_result"
    }
   ],
   "source": [
    "# Now, we can do the same thing to the ‘letters’ list. \n",
    "# We will use ‘fd’ and ‘most_common’ to check the most frequently used 10 letters.\\\n",
    "fd(letters).most_common(10)"
   ]
  },
  {
   "cell_type": "code",
   "execution_count": 45,
   "metadata": {},
   "outputs": [
    {
     "data": {
      "text/plain": [
       "{'e': 9,\n",
       " 'n': 6,\n",
       " 't': 5,\n",
       " 'h': 5,\n",
       " 'a': 4,\n",
       " 'i': 3,\n",
       " 'g': 3,\n",
       " 'd': 3,\n",
       " 'r': 2,\n",
       " 'b': 1}"
      ]
     },
     "execution_count": 45,
     "metadata": {},
     "output_type": "execute_result"
    }
   ],
   "source": [
    "# To visualize, we are going to make it a dictionary to be used in Pandas data frame. Let’s call this dictionary ‘letter_dict’.\n",
    "letter_dict = dict(fd(letters).most_common(10))\n",
    "letter_dict"
   ]
  },
  {
   "cell_type": "code",
   "execution_count": 46,
   "metadata": {},
   "outputs": [
    {
     "data": {
      "text/plain": [
       "<AxesSubplot:>"
      ]
     },
     "execution_count": 46,
     "metadata": {},
     "output_type": "execute_result"
    },
    {
     "data": {
      "image/png": "[encoded data removed]",
      "text/plain": [
       "<Figure size 576x396 with 1 Axes>"
      ]
     },
     "metadata": {},
     "output_type": "display_data"
    }
   ],
   "source": [
    "# let’s visualize this, as we did before for words\n",
    "import pandas as pd\n",
    "most_common_letters = pd.DataFrame({\"Frequency Distribution of Letters\":  list(letter_dict.values())}, index=list(letter_dict.keys()))\n",
    "most_common_letters.plot(kind=\"bar\")"
   ]
  },
  {
   "cell_type": "code",
   "execution_count": null,
   "metadata": {},
   "outputs": [],
   "source": []
  }
 ],
 "metadata": {
  "kernelspec": {
   "display_name": "Python [conda env:base] *",
   "language": "python",
   "name": "conda-base-py"
  },
  "language_info": {
   "codemirror_mode": {
    "name": "ipython",
    "version": 3
   },
   "file_extension": ".py",
   "mimetype": "text/x-python",
   "name": "python",
   "nbconvert_exporter": "python",
   "pygments_lexer": "ipython3",
   "version": "3.12.7"
  }
 },
 "nbformat": 4,
 "nbformat_minor": 4
}
